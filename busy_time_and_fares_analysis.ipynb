{
 "cells": [
  {
   "cell_type": "code",
   "execution_count": 2,
   "metadata": {},
   "outputs": [],
   "source": [
    "import pandas as pd\n",
    "import numpy as np\n",
    "import matplotlib.pyplot as plt"
   ]
  },
  {
   "cell_type": "code",
   "execution_count": 3,
   "metadata": {},
   "outputs": [
    {
     "name": "stderr",
     "output_type": "stream",
     "text": [
      "/srv/conda/envs/notebook/lib/python3.9/site-packages/IPython/core/interactiveshell.py:3251: DtypeWarning: Columns (3) have mixed types.Specify dtype option on import or set low_memory=False.\n",
      "  exec(code_obj, self.user_global_ns, self.user_ns)\n"
     ]
    }
   ],
   "source": [
    "df = pd.read_csv('data/taxi_clean.csv')\n",
    "df.fillna('missing', inplace=True)"
   ]
  },
  {
   "cell_type": "code",
   "execution_count": 4,
   "metadata": {},
   "outputs": [],
   "source": [
    "df['lpep_pickup_datetime'] = pd.to_datetime(df['lpep_pickup_datetime'])\n",
    "df['lpep_dropoff_datetime'] = pd.to_datetime(df['lpep_dropoff_datetime'])"
   ]
  },
  {
   "cell_type": "code",
   "execution_count": 5,
   "metadata": {},
   "outputs": [],
   "source": [
    "df['pickup_weekday'] = df['lpep_pickup_datetime'].dt.dayofweek+1 #The day of the week with Monday=1, Sunday=7.\n",
    "df['dropoff_weekday'] = df['lpep_dropoff_datetime'].dt.dayofweek+1\n",
    "weekday_dict = {1: \"Monday\", \n",
    "                2: \"Tuesday\",\n",
    "                3: \"Wednesday\",\n",
    "                4: \"Thursday\",\n",
    "                5: \"Friday\",\n",
    "                6: \"Saturday\",\n",
    "                7: \"Sunday\"}\n",
    "df = df.replace({\"pickup_weekday\": weekday_dict})\n",
    "df = df.replace({\"dropoff_weekday\": weekday_dict})\n",
    "df['pickup_weekday'] = pd.Categorical(df['pickup_weekday'], categories=\n",
    "    ['Monday','Tuesday','Wednesday','Thursday','Friday','Saturday', 'Sunday'],\n",
    "    ordered=True)\n",
    "df['dropoff_weekday'] = pd.Categorical(df['dropoff_weekday'], categories=\n",
    "    ['Monday','Tuesday','Wednesday','Thursday','Friday','Saturday', 'Sunday'],\n",
    "    ordered=True)"
   ]
  },
  {
   "cell_type": "code",
   "execution_count": 6,
   "metadata": {},
   "outputs": [],
   "source": [
    "df['pickup_hour'] = df['lpep_pickup_datetime'].dt.hour\n",
    "df['dropoff_hour'] = df['lpep_dropoff_datetime'].dt.hour"
   ]
  },
  {
   "cell_type": "code",
   "execution_count": 7,
   "metadata": {},
   "outputs": [],
   "source": [
    "df['pickup_monthday'] = df['lpep_pickup_datetime'].dt.day\n",
    "df['dropoff_monthday'] = df['lpep_dropoff_datetime'].dt.day"
   ]
  },
  {
   "cell_type": "code",
   "execution_count": 8,
   "metadata": {},
   "outputs": [
    {
     "data": {
      "text/html": [
       "<div>\n",
       "<style scoped>\n",
       "    .dataframe tbody tr th:only-of-type {\n",
       "        vertical-align: middle;\n",
       "    }\n",
       "\n",
       "    .dataframe tbody tr th {\n",
       "        vertical-align: top;\n",
       "    }\n",
       "\n",
       "    .dataframe thead th {\n",
       "        text-align: right;\n",
       "    }\n",
       "</style>\n",
       "<table border=\"1\" class=\"dataframe\">\n",
       "  <thead>\n",
       "    <tr style=\"text-align: right;\">\n",
       "      <th></th>\n",
       "      <th>VendorID</th>\n",
       "      <th>lpep_pickup_datetime</th>\n",
       "      <th>lpep_dropoff_datetime</th>\n",
       "      <th>store_and_fwd_flag</th>\n",
       "      <th>RatecodeID</th>\n",
       "      <th>PULocationID</th>\n",
       "      <th>DOLocationID</th>\n",
       "      <th>passenger_count</th>\n",
       "      <th>trip_distance</th>\n",
       "      <th>fare_amount</th>\n",
       "      <th>...</th>\n",
       "      <th>hour_of_day</th>\n",
       "      <th>trip_duration</th>\n",
       "      <th>total_without_tip</th>\n",
       "      <th>fare_per_mile</th>\n",
       "      <th>pickup_weekday</th>\n",
       "      <th>dropoff_weekday</th>\n",
       "      <th>pickup_hour</th>\n",
       "      <th>dropoff_hour</th>\n",
       "      <th>pickup_monthday</th>\n",
       "      <th>dropoff_monthday</th>\n",
       "    </tr>\n",
       "  </thead>\n",
       "  <tbody>\n",
       "    <tr>\n",
       "      <th>0</th>\n",
       "      <td>1.0</td>\n",
       "      <td>2021-07-01 00:30:52</td>\n",
       "      <td>2021-07-01 00:35:36</td>\n",
       "      <td>N</td>\n",
       "      <td>1.0</td>\n",
       "      <td>74</td>\n",
       "      <td>168</td>\n",
       "      <td>1.0</td>\n",
       "      <td>1.20</td>\n",
       "      <td>6.0</td>\n",
       "      <td>...</td>\n",
       "      <td>0</td>\n",
       "      <td>284.0</td>\n",
       "      <td>7.3</td>\n",
       "      <td>6.08</td>\n",
       "      <td>Thursday</td>\n",
       "      <td>Thursday</td>\n",
       "      <td>0</td>\n",
       "      <td>0</td>\n",
       "      <td>1</td>\n",
       "      <td>1</td>\n",
       "    </tr>\n",
       "    <tr>\n",
       "      <th>1</th>\n",
       "      <td>2.0</td>\n",
       "      <td>2021-07-01 00:25:36</td>\n",
       "      <td>2021-07-01 01:01:31</td>\n",
       "      <td>N</td>\n",
       "      <td>1.0</td>\n",
       "      <td>116</td>\n",
       "      <td>265</td>\n",
       "      <td>2.0</td>\n",
       "      <td>13.69</td>\n",
       "      <td>42.0</td>\n",
       "      <td>...</td>\n",
       "      <td>0</td>\n",
       "      <td>2155.0</td>\n",
       "      <td>43.3</td>\n",
       "      <td>3.16</td>\n",
       "      <td>Thursday</td>\n",
       "      <td>Thursday</td>\n",
       "      <td>0</td>\n",
       "      <td>1</td>\n",
       "      <td>1</td>\n",
       "      <td>1</td>\n",
       "    </tr>\n",
       "    <tr>\n",
       "      <th>2</th>\n",
       "      <td>2.0</td>\n",
       "      <td>2021-07-01 00:05:58</td>\n",
       "      <td>2021-07-01 00:12:00</td>\n",
       "      <td>N</td>\n",
       "      <td>1.0</td>\n",
       "      <td>97</td>\n",
       "      <td>33</td>\n",
       "      <td>1.0</td>\n",
       "      <td>0.95</td>\n",
       "      <td>6.5</td>\n",
       "      <td>...</td>\n",
       "      <td>0</td>\n",
       "      <td>362.0</td>\n",
       "      <td>7.8</td>\n",
       "      <td>8.21</td>\n",
       "      <td>Thursday</td>\n",
       "      <td>Thursday</td>\n",
       "      <td>0</td>\n",
       "      <td>0</td>\n",
       "      <td>1</td>\n",
       "      <td>1</td>\n",
       "    </tr>\n",
       "    <tr>\n",
       "      <th>3</th>\n",
       "      <td>2.0</td>\n",
       "      <td>2021-07-01 00:41:40</td>\n",
       "      <td>2021-07-01 00:47:23</td>\n",
       "      <td>N</td>\n",
       "      <td>1.0</td>\n",
       "      <td>74</td>\n",
       "      <td>42</td>\n",
       "      <td>1.0</td>\n",
       "      <td>1.24</td>\n",
       "      <td>6.5</td>\n",
       "      <td>...</td>\n",
       "      <td>0</td>\n",
       "      <td>343.0</td>\n",
       "      <td>7.8</td>\n",
       "      <td>6.29</td>\n",
       "      <td>Thursday</td>\n",
       "      <td>Thursday</td>\n",
       "      <td>0</td>\n",
       "      <td>0</td>\n",
       "      <td>1</td>\n",
       "      <td>1</td>\n",
       "    </tr>\n",
       "    <tr>\n",
       "      <th>4</th>\n",
       "      <td>2.0</td>\n",
       "      <td>2021-07-01 00:51:32</td>\n",
       "      <td>2021-07-01 00:58:46</td>\n",
       "      <td>N</td>\n",
       "      <td>1.0</td>\n",
       "      <td>42</td>\n",
       "      <td>244</td>\n",
       "      <td>1.0</td>\n",
       "      <td>1.10</td>\n",
       "      <td>7.0</td>\n",
       "      <td>...</td>\n",
       "      <td>0</td>\n",
       "      <td>434.0</td>\n",
       "      <td>8.3</td>\n",
       "      <td>7.55</td>\n",
       "      <td>Thursday</td>\n",
       "      <td>Thursday</td>\n",
       "      <td>0</td>\n",
       "      <td>0</td>\n",
       "      <td>1</td>\n",
       "      <td>1</td>\n",
       "    </tr>\n",
       "  </tbody>\n",
       "</table>\n",
       "<p>5 rows × 31 columns</p>\n",
       "</div>"
      ],
      "text/plain": [
       "  VendorID lpep_pickup_datetime lpep_dropoff_datetime store_and_fwd_flag  \\\n",
       "0      1.0  2021-07-01 00:30:52   2021-07-01 00:35:36                  N   \n",
       "1      2.0  2021-07-01 00:25:36   2021-07-01 01:01:31                  N   \n",
       "2      2.0  2021-07-01 00:05:58   2021-07-01 00:12:00                  N   \n",
       "3      2.0  2021-07-01 00:41:40   2021-07-01 00:47:23                  N   \n",
       "4      2.0  2021-07-01 00:51:32   2021-07-01 00:58:46                  N   \n",
       "\n",
       "  RatecodeID  PULocationID  DOLocationID passenger_count  trip_distance  \\\n",
       "0        1.0            74           168             1.0           1.20   \n",
       "1        1.0           116           265             2.0          13.69   \n",
       "2        1.0            97            33             1.0           0.95   \n",
       "3        1.0            74            42             1.0           1.24   \n",
       "4        1.0            42           244             1.0           1.10   \n",
       "\n",
       "   fare_amount  ...  hour_of_day  trip_duration  total_without_tip  \\\n",
       "0          6.0  ...            0          284.0                7.3   \n",
       "1         42.0  ...            0         2155.0               43.3   \n",
       "2          6.5  ...            0          362.0                7.8   \n",
       "3          6.5  ...            0          343.0                7.8   \n",
       "4          7.0  ...            0          434.0                8.3   \n",
       "\n",
       "   fare_per_mile  pickup_weekday  dropoff_weekday pickup_hour dropoff_hour  \\\n",
       "0           6.08        Thursday         Thursday           0            0   \n",
       "1           3.16        Thursday         Thursday           0            1   \n",
       "2           8.21        Thursday         Thursday           0            0   \n",
       "3           6.29        Thursday         Thursday           0            0   \n",
       "4           7.55        Thursday         Thursday           0            0   \n",
       "\n",
       "  pickup_monthday  dropoff_monthday  \n",
       "0               1                 1  \n",
       "1               1                 1  \n",
       "2               1                 1  \n",
       "3               1                 1  \n",
       "4               1                 1  \n",
       "\n",
       "[5 rows x 31 columns]"
      ]
     },
     "execution_count": 8,
     "metadata": {},
     "output_type": "execute_result"
    }
   ],
   "source": [
    "df.head()"
   ]
  },
  {
   "cell_type": "markdown",
   "metadata": {},
   "source": [
    "# General analysis for time of the day:\n",
    "## + What are the busiest hours in the day, calculated by the number of rows for each hour (comparing weekends to weekdays) -> double bar chart"
   ]
  },
  {
   "cell_type": "code",
   "execution_count": 9,
   "metadata": {},
   "outputs": [
    {
     "data": {
      "text/plain": [
       "<BarContainer object of 24 artists>"
      ]
     },
     "execution_count": 9,
     "metadata": {},
     "output_type": "execute_result"
    },
    {
     "data": {
      "image/png": "[encoded data removed]",
      "text/plain": [
       "<Figure size 432x288 with 1 Axes>"
      ]
     },
     "metadata": {
      "needs_background": "light"
     },
     "output_type": "display_data"
    }
   ],
   "source": [
    "# Plot the `pickup_hour` for all dates.\n",
    "dd = pd.DataFrame(df.groupby([\"pickup_hour\"])[\"pickup_hour\"].count())\n",
    "dd.index.name = 'hour'\n",
    "dd.reset_index(inplace=True)\n",
    "plt.bar(dd.hour,dd.pickup_hour)"
   ]
  },
  {
   "cell_type": "code",
   "execution_count": 10,
   "metadata": {},
   "outputs": [
    {
     "data": {
      "text/plain": [
       "<BarContainer object of 24 artists>"
      ]
     },
     "execution_count": 10,
     "metadata": {},
     "output_type": "execute_result"
    },
    {
     "data": {
      "image/png": "[encoded data removed]",
      "text/plain": [
       "<Figure size 432x288 with 1 Axes>"
      ]
     },
     "metadata": {
      "needs_background": "light"
     },
     "output_type": "display_data"
    }
   ],
   "source": [
    "# Plot the `dropoff_hour` for all dates.\n",
    "dd = pd.DataFrame(df.groupby([\"dropoff_hour\"])[\"dropoff_hour\"].count())\n",
    "dd.index.name = 'hour'\n",
    "dd.reset_index(inplace=True)\n",
    "plt.bar(dd.hour,dd.dropoff_hour)"
   ]
  },
  {
   "cell_type": "code",
   "execution_count": 11,
   "metadata": {},
   "outputs": [
    {
     "data": {
      "text/plain": [
       "<matplotlib.legend.Legend at 0x7fedeac6f5e0>"
      ]
     },
     "execution_count": 11,
     "metadata": {},
     "output_type": "execute_result"
    },
    {
     "data": {
      "image/png": "[encoded data removed]",
      "text/plain": [
       "<Figure size 432x288 with 1 Axes>"
      ]
     },
     "metadata": {
      "needs_background": "light"
     },
     "output_type": "display_data"
    }
   ],
   "source": [
    "# Plot the `pickup_hour` for weekdays vs weekends.\n",
    "d1 = pd.DataFrame(df[~df[\"pickup_weekday\"].isin([\"Saturday\",\"Sunday\"])].groupby([\"pickup_hour\"])[\"pickup_hour\"].count())\n",
    "d2 = pd.DataFrame(df[df[\"pickup_weekday\"].isin([\"Saturday\",\"Sunday\"])].groupby([\"pickup_hour\"])[\"pickup_hour\"].count())\n",
    "d1.index.name = 'hour'\n",
    "d2.index.name = 'hour'\n",
    "d1.reset_index(inplace=True)\n",
    "d2.reset_index(inplace=True)\n",
    "plt.bar(d1.hour-0.2,d1.pickup_hour,0.4,label = 'weekdays')\n",
    "plt.bar(d2.hour+0.2,d2.pickup_hour,0.4,label = 'weekends')\n",
    "plt.legend()\n"
   ]
  },
  {
   "cell_type": "code",
   "execution_count": 12,
   "metadata": {},
   "outputs": [
    {
     "data": {
      "text/plain": [
       "<matplotlib.legend.Legend at 0x7fedebeecdc0>"
      ]
     },
     "execution_count": 12,
     "metadata": {},
     "output_type": "execute_result"
    },
    {
     "data": {
      "image/png": "[encoded data removed]",
      "text/plain": [
       "<Figure size 432x288 with 1 Axes>"
      ]
     },
     "metadata": {
      "needs_background": "light"
     },
     "output_type": "display_data"
    }
   ],
   "source": [
    "# Plot the `dropoff_hour` for weekdays vs weekends.\n",
    "d1 = pd.DataFrame(df[~df[\"dropoff_weekday\"].isin([\"Saturday\",\"Sunday\"])].groupby([\"dropoff_hour\"])[\"dropoff_hour\"].count())\n",
    "d2 = pd.DataFrame(df[df[\"dropoff_weekday\"].isin([\"Saturday\",\"Sunday\"])].groupby([\"dropoff_hour\"])[\"dropoff_hour\"].count())\n",
    "d1.index.name = 'hour'\n",
    "d2.index.name = 'hour'\n",
    "d1.reset_index(inplace=True)\n",
    "d2.reset_index(inplace=True)\n",
    "plt.bar(d1.hour-0.2,d1.dropoff_hour,0.4,label = 'weekdays')\n",
    "plt.bar(d2.hour+0.2,d2.dropoff_hour,0.4,label = 'weekends')\n",
    "plt.legend()\n"
   ]
  },
  {
   "cell_type": "markdown",
   "metadata": {},
   "source": [
    "# How do fares (cost/mile) change based on time (scatterplots or line graph):\n",
    "## + Fares vs hour of the day\n",
    "## + Fares vs day of the week\n",
    "## + Fares vs day of the month"
   ]
  },
  {
   "cell_type": "code",
   "execution_count": 13,
   "metadata": {},
   "outputs": [
    {
     "data": {
      "text/plain": [
       "[<matplotlib.lines.Line2D at 0x7fedebd141c0>]"
      ]
     },
     "execution_count": 13,
     "metadata": {},
     "output_type": "execute_result"
    },
    {
     "data": {
      "image/png": "[encoded data removed]",
      "text/plain": [
       "<Figure size 432x288 with 1 Axes>"
      ]
     },
     "metadata": {
      "needs_background": "light"
     },
     "output_type": "display_data"
    }
   ],
   "source": [
    "# Fares vs hour of the day\n",
    "plt.plot(df.groupby([\"pickup_hour\"])[\"fare_per_mile\"].mean())"
   ]
  },
  {
   "cell_type": "code",
   "execution_count": 14,
   "metadata": {},
   "outputs": [
    {
     "data": {
      "text/plain": [
       "<BarContainer object of 7 artists>"
      ]
     },
     "execution_count": 14,
     "metadata": {},
     "output_type": "execute_result"
    },
    {
     "data": {
      "image/png": "[encoded data removed]",
      "text/plain": [
       "<Figure size 432x288 with 1 Axes>"
      ]
     },
     "metadata": {
      "needs_background": "light"
     },
     "output_type": "display_data"
    }
   ],
   "source": [
    "# Fares vs day of the week\n",
    "dd = pd.DataFrame(df.groupby([\"pickup_weekday\"])[\"fare_per_mile\"].mean())\n",
    "dd.index.name = 'pickup_weekday'\n",
    "dd.reset_index(inplace=True)\n",
    "plt.bar(dd.pickup_weekday,dd.fare_per_mile)"
   ]
  },
  {
   "cell_type": "code",
   "execution_count": 15,
   "metadata": {},
   "outputs": [
    {
     "data": {
      "text/plain": [
       "[<matplotlib.lines.Line2D at 0x7fedebc66460>]"
      ]
     },
     "execution_count": 15,
     "metadata": {},
     "output_type": "execute_result"
    },
    {
     "data": {
      "image/png": "[encoded data removed]",
      "text/plain": [
       "<Figure size 432x288 with 1 Axes>"
      ]
     },
     "metadata": {
      "needs_background": "light"
     },
     "output_type": "display_data"
    }
   ],
   "source": [
    "# Fares vs day of the month\n",
    "plt.plot(df.groupby([\"pickup_monthday\"])[\"fare_per_mile\"].mean())"
   ]
  },
  {
   "cell_type": "code",
   "execution_count": null,
   "metadata": {},
   "outputs": [],
   "source": []
  }
 ],
 "metadata": {
  "kernelspec": {
   "display_name": "IPython - hw7env",
   "language": "python",
   "name": "hw7env"
  },
  "language_info": {
   "codemirror_mode": {
    "name": "ipython",
    "version": 3
   },
   "file_extension": ".py",
   "mimetype": "text/x-python",
   "name": "python",
   "nbconvert_exporter": "python",
   "pygments_lexer": "ipython3",
   "version": "3.9.9"
  }
 },
 "nbformat": 4,
 "nbformat_minor": 4
}
